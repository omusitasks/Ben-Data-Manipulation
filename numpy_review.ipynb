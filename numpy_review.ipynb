{
 "cells": [
  {
   "cell_type": "markdown",
   "metadata": {},
   "source": [
    "# NumPy Review Challenge\n",
    "\n",
    "To review some basic concepts, attempt to perform these basic NumPy tasks on your own and then watch the walkthrough video to check your solutions.\n",
    "\n",
    "Once your assignment is complete and you have watched the solution video to check your answers, make sure that you save it as `numpy_review` and upload it to CodeGrade to get credit for your work."
   ]
  },
  {
   "cell_type": "markdown",
   "metadata": {},
   "source": [
    "Import numpy as np and check your version."
   ]
  },
  {
   "cell_type": "code",
   "execution_count": null,
   "metadata": {},
   "outputs": [],
   "source": [
    "### ENTER CODE HERE ###\n",
    "import numpy as np\n",
    "print(np.__version__)"
   ]
  },
  {
   "cell_type": "markdown",
   "metadata": {},
   "source": [
    "**Q1:** Create a 1D array of numbers from `0` to `9` and save it as `Q1`."
   ]
  },
  {
   "cell_type": "code",
   "execution_count": null,
   "metadata": {},
   "outputs": [],
   "source": [
    "### ENTER CODE HERE ###\n",
    "Q1 = np.arange(10)\n",
    "Q1"
   ]
  },
  {
   "cell_type": "markdown",
   "metadata": {},
   "source": [
    "**Q2:** Create a 1D array of numbers from `10` to `49` and save it as `Q2`."
   ]
  },
  {
   "cell_type": "code",
   "execution_count": null,
   "metadata": {},
   "outputs": [],
   "source": [
    "### ENTER CODE HERE ###\n",
    "Q2 = np.arange(10, 50)\n",
    "Q2"
   ]
  },
  {
   "cell_type": "markdown",
   "metadata": {},
   "source": [
    "**Q3:** Copy the `Q2` array and save it as `Q3`.  Reverse the values in the `Q3` array (first element becomes the last)."
   ]
  },
  {
   "cell_type": "code",
   "execution_count": null,
   "metadata": {},
   "outputs": [],
   "source": [
    "# make a copy of the previous array to prevent a \"view\" from being created\n",
    "Q3 = Q2.copy()\n",
    "\n",
    "### ENTER CODE HERE ###\n",
    "Q3 = Q3[::-1]\n",
    "Q3"
   ]
  },
  {
   "cell_type": "markdown",
   "metadata": {},
   "source": [
    "**Q4:** Create a `3x3` matrix with values ranging from `1` to `9` and save it as `Q4`."
   ]
  },
  {
   "cell_type": "code",
   "execution_count": null,
   "metadata": {},
   "outputs": [],
   "source": [
    "### ENTER CODE HERE ###\n",
    "Q4 = np.arange(1,10).reshape(3,3)\n",
    "Q4"
   ]
  },
  {
   "cell_type": "markdown",
   "metadata": {},
   "source": [
    "**Q5:** Set a random seed of `42`. Create a `10x5` array with random values and save it as `Q5`.  Use [np.random.random()](https://numpy.org/doc/stable/reference/random/generated/numpy.random.random.html#).  As a check, your first row of the array should be: `[0.37454012, 0.95071431, 0.73199394, 0.59865848, 0.15601864]`"
   ]
  },
  {
   "cell_type": "code",
   "execution_count": null,
   "metadata": {},
   "outputs": [],
   "source": [
    "np.random.seed(42) \n",
    "\n",
    "### ENTER CODE HERE ###\n",
    "Q5=np.random.random((10,5))\n",
    "Q5"
   ]
  },
  {
   "cell_type": "markdown",
   "metadata": {},
   "source": [
    "**Q6:** Find the minimum and maximum values of above `Q5` array, rounding them to 4 decimal places.  Call the values `Q6A` and `Q6B` respectively. "
   ]
  },
  {
   "cell_type": "code",
   "execution_count": null,
   "metadata": {},
   "outputs": [],
   "source": [
    "### ENTER CODE HERE ###\n",
    "Q6A = round(Q5.min(), 4)\n",
    "Q6A"
   ]
  },
  {
   "cell_type": "code",
   "execution_count": null,
   "metadata": {},
   "outputs": [],
   "source": [
    "### ENTER CODE HERE ###\n",
    "Q6B = round(Q5.max(), 4)\n",
    "Q6B"
   ]
  },
  {
   "cell_type": "markdown",
   "metadata": {},
   "source": [
    "**Q7:** Find the mean value for the above `Q5` array, rounding to 4 decimal places.  Call this value `Q7`."
   ]
  },
  {
   "cell_type": "code",
   "execution_count": null,
   "metadata": {},
   "outputs": [],
   "source": [
    "### ENTER CODE HERE ##\n",
    "Q7 = round(Q5.mean(), 4)\n",
    "Q7"
   ]
  },
  {
   "cell_type": "markdown",
   "metadata": {},
   "source": [
    "**Q8:** Select all even numbers from the following array and call this output `Q8`.\n",
    "```python\n",
    "arr = np.array([0, 1, 2, 3, 4, 5, 6, 7, 8, 9])\n",
    "```"
   ]
  },
  {
   "cell_type": "code",
   "execution_count": null,
   "metadata": {},
   "outputs": [],
   "source": [
    "arr = np.array([0, 1, 2, 3, 4, 5, 6, 7, 8, 9])\n",
    "\n",
    "### ENTER CODE HERE ###\n",
    "\n",
    "Q8 = arr[arr % 2 == 0]\n",
    "Q8"
   ]
  },
  {
   "cell_type": "markdown",
   "metadata": {},
   "source": [
    "**Q9:** Make a copy of the `arr` array and call it `Q9`.  Replace all even numbers from `Q9` with `0`."
   ]
  },
  {
   "cell_type": "code",
   "execution_count": null,
   "metadata": {},
   "outputs": [],
   "source": [
    "Q9 = arr.copy()\n",
    "\n",
    "### ENTER CODE HERE ###\n",
    "\n",
    "Q9[Q9 % 2 == 0] = 0\n",
    "Q9"
   ]
  },
  {
   "cell_type": "markdown",
   "metadata": {},
   "source": [
    "**Q10:** Use the [where](https://numpy.org/doc/stable/reference/generated/numpy.where.html) method to replace all odd numbers from the above `Q9` array with a `-1` and call it `Q10`."
   ]
  },
  {
   "cell_type": "code",
   "execution_count": null,
   "metadata": {},
   "outputs": [],
   "source": [
    "### ENTER CODE HERE ###\n",
    "Q10 = np.where(Q9 % 2 == 1, -1, Q9)\n",
    "Q10"
   ]
  },
  {
   "cell_type": "markdown",
   "metadata": {},
   "source": [
    "**Q11** Reshape the above `arr` array to a `2x5` array and call it `Q11`."
   ]
  },
  {
   "cell_type": "code",
   "execution_count": null,
   "metadata": {},
   "outputs": [],
   "source": [
    "### ENTER CODE HERE ###\n",
    "Q11 = arr.reshape((2,5))\n",
    "Q11"
   ]
  },
  {
   "cell_type": "markdown",
   "metadata": {},
   "source": [
    "**Q12:** Stack `arr1` and `arr2` (both given below) vertically and call this array `Q12`."
   ]
  },
  {
   "cell_type": "code",
   "execution_count": null,
   "metadata": {},
   "outputs": [],
   "source": [
    "arr1 = np.arange(10).reshape((2,5))\n",
    "arr2 = np.arange(10,20).reshape((2,5))\n",
    "\n",
    "## ENTER CODE HERE ###\n",
    "Q12 = np.concatenate([arr1, arr2], axis=0)\n",
    "Q12"
   ]
  },
  {
   "cell_type": "markdown",
   "metadata": {},
   "source": [
    "**Q13:** Stack `arr1` and `arr2` horizontally and call this array `Q13`."
   ]
  },
  {
   "cell_type": "code",
   "execution_count": null,
   "metadata": {},
   "outputs": [],
   "source": [
    "### ENTER CODE HERE ###\n",
    "Q13 = np.concatenate([arr1, arr2], axis=1)\n",
    "Q13"
   ]
  },
  {
   "cell_type": "markdown",
   "metadata": {},
   "source": [
    "**Q14:** Swap the first and second columns in the following array called `arr3` and save it as `Q14`."
   ]
  },
  {
   "cell_type": "code",
   "execution_count": null,
   "metadata": {},
   "outputs": [],
   "source": [
    "arr3 = np.array([22,56,34,54,12,42,67,56,99]).reshape((3,3))\n",
    "arr3"
   ]
  },
  {
   "cell_type": "code",
   "execution_count": null,
   "metadata": {},
   "outputs": [],
   "source": [
    "### ENTER CODE HERE ###\n",
    "Q14 = arr3[: , [1,0,2]]\n",
    "Q14"
   ]
  },
  {
   "cell_type": "markdown",
   "metadata": {},
   "source": [
    "**Q15:** Swap rows 1 and 2 in the above `Q14` array and call it `Q15`."
   ]
  },
  {
   "cell_type": "code",
   "execution_count": null,
   "metadata": {},
   "outputs": [],
   "source": [
    "### ENTER CODE HERE ###\n",
    "Q15 = Q14[[1,0,2], :]\n",
    "Q15"
   ]
  },
  {
   "cell_type": "markdown",
   "metadata": {},
   "source": [
    "**Q16:** Next, reverse the columns of the above `Q15` array and call it `Q16`."
   ]
  },
  {
   "cell_type": "code",
   "execution_count": null,
   "metadata": {},
   "outputs": [],
   "source": [
    "### ENTER CODE HERE ###\n",
    "Q16 = Q15[:,  ::-1]\n",
    "Q16"
   ]
  },
  {
   "cell_type": "markdown",
   "metadata": {},
   "source": [
    "**Q17:** Sort each row of the above `Q16` array from least to greatest and call it `Q17`."
   ]
  },
  {
   "cell_type": "code",
   "execution_count": null,
   "metadata": {},
   "outputs": [],
   "source": [
    "### ENTER CODE HERE ###\n",
    "Q17 = np.sort(Q16, axis=1)\n",
    "Q17"
   ]
  },
  {
   "cell_type": "markdown",
   "metadata": {},
   "source": [
    "**Q18:** Sort each column of the above `Q17` array from the least to the greatest and call it `Q18`."
   ]
  },
  {
   "cell_type": "code",
   "execution_count": null,
   "metadata": {},
   "outputs": [],
   "source": [
    "### ENTER CODE HERE ###\n",
    "Q18 = np.sort(Q17, axis=0)\n",
    "Q18"
   ]
  },
  {
   "cell_type": "markdown",
   "metadata": {},
   "source": [
    "**Q19:** Create a `1D` array called `Q19` of `100` values that range evenly between `[1 - 200]`.\n"
   ]
  },
  {
   "cell_type": "code",
   "execution_count": null,
   "metadata": {},
   "outputs": [],
   "source": [
    "### ENTER CODE HERE ###\n",
    "Q19 = np.linspace(1,200,100)\n",
    "Q19"
   ]
  },
  {
   "cell_type": "markdown",
   "metadata": {},
   "source": [
    "**Q20:** Reshape `Q19` to a `25x4` array and call it `Q20`."
   ]
  },
  {
   "cell_type": "code",
   "execution_count": null,
   "metadata": {},
   "outputs": [],
   "source": [
    "### ENTER CODE HERE ###\n",
    "Q20 = Q19.reshape(25,4)\n",
    "Q20"
   ]
  },
  {
   "cell_type": "markdown",
   "metadata": {},
   "source": [
    "**Q21:** Index the first row of `Q20` and save this as `Q21`."
   ]
  },
  {
   "cell_type": "code",
   "execution_count": null,
   "metadata": {},
   "outputs": [],
   "source": [
    "### ENTER CODE HERE ###\n",
    "Q21 = Q20[0]\n",
    "Q21"
   ]
  },
  {
   "cell_type": "markdown",
   "metadata": {},
   "source": [
    "**Q22:** Index the second column of `Q20` and save this as `Q22`."
   ]
  },
  {
   "cell_type": "code",
   "execution_count": null,
   "metadata": {},
   "outputs": [],
   "source": [
    "### ENTER CODE HERE ###\n",
    "Q22 = Q20[:,1]\n",
    "Q22"
   ]
  },
  {
   "cell_type": "markdown",
   "metadata": {},
   "source": [
    "**Q23:** Index every other row of `Q20` starting from the first and save this as `Q23`."
   ]
  },
  {
   "cell_type": "code",
   "execution_count": null,
   "metadata": {},
   "outputs": [],
   "source": [
    "### ENTER CODE HERE ###\n",
    "Q23 = Q20[::2]\n",
    "Q23"
   ]
  },
  {
   "cell_type": "markdown",
   "metadata": {},
   "source": [
    "**Q24:** Index the 3rd, 5th and 7th row of the `Q20` array can save this as `Q24`."
   ]
  },
  {
   "cell_type": "code",
   "execution_count": null,
   "metadata": {},
   "outputs": [],
   "source": [
    "### ENTER CODE HERE ###\n",
    "Q24 = Q20[[2,4,6]]\n",
    "Q24"
   ]
  },
  {
   "cell_type": "markdown",
   "metadata": {},
   "source": [
    "**Q25:** Copy the `Q20` array and save it as `Q25`.  Select only the values below 50 from `Q25`, add 5 to these values, and then multiply by 2. The other values should remain unchanged and everything should be saved back to `Q25`."
   ]
  },
  {
   "cell_type": "code",
   "execution_count": null,
   "metadata": {},
   "outputs": [],
   "source": [
    "# make a copy of Q20\n",
    "Q25 = Q20.copy()\n",
    "\n",
    "### ENTER CODE HERE ###\n",
    "Q25[Q25<50] = (Q25[Q25<50] + 5) * 2\n",
    "Q25"
   ]
  },
  {
   "cell_type": "markdown",
   "metadata": {},
   "source": [
    "**Q26:** Add `Q20` and `Q25` and call the new array `Q26`."
   ]
  },
  {
   "cell_type": "code",
   "execution_count": null,
   "metadata": {},
   "outputs": [],
   "source": [
    "### ENTER CODE HERE ###\n",
    "Q26 = Q20 + Q25\n",
    "Q26"
   ]
  },
  {
   "cell_type": "markdown",
   "metadata": {},
   "source": [
    "**Q27:** What is the `shape` of `Q26`?  Save this as `Q27`."
   ]
  },
  {
   "cell_type": "code",
   "execution_count": null,
   "metadata": {},
   "outputs": [],
   "source": [
    "### ENTER CODE HERE ###\n",
    "Q27 = Q26.shape\n",
    "Q27"
   ]
  },
  {
   "cell_type": "markdown",
   "metadata": {},
   "source": [
    "**Q28:** Cast `Q26` array as an `int64` data type.  Save this as `Q28`. What happens to the values?"
   ]
  },
  {
   "cell_type": "code",
   "execution_count": null,
   "metadata": {},
   "outputs": [],
   "source": [
    "### ENTER CODE HERE ###\n",
    "Q28 = Q26.astype('int64')\n",
    "Q28"
   ]
  },
  {
   "cell_type": "markdown",
   "metadata": {},
   "source": [
    "**Q29:** \n",
    "- Make a copy of the `Q28` array and call it `Q29`.  \n",
    "- Select the first value in the first 5 rows in `Q29` and call this slice `arr_slice`.\n",
    "- Update the second value in `arr_slice` to `42`. Before you check the results, will this update `Q29` or will it remain unchanged?"
   ]
  },
  {
   "cell_type": "code",
   "execution_count": null,
   "metadata": {},
   "outputs": [],
   "source": [
    "# make a copy of Q28\n",
    "Q29 = Q28.copy()\n",
    "\n",
    "### ENTER CODE HERE ###\n",
    "arr_slice = Q29[0:5,0]\n",
    "arr_slice"
   ]
  },
  {
   "cell_type": "code",
   "execution_count": null,
   "metadata": {},
   "outputs": [],
   "source": [
    "arr_slice[1] = 42"
   ]
  },
  {
   "cell_type": "code",
   "execution_count": null,
   "metadata": {},
   "outputs": [],
   "source": [
    "Q29"
   ]
  },
  {
   "cell_type": "markdown",
   "metadata": {},
   "source": [
    "**Q30:** Set all negative values in the `data` array (given below) to `0`.  For this exercise you will be updating the actual `data` array."
   ]
  },
  {
   "cell_type": "code",
   "execution_count": null,
   "metadata": {},
   "outputs": [],
   "source": [
    "# create new array\n",
    "data = np.array([2,-4,8,16,-32,-64,128])\n",
    "data"
   ]
  },
  {
   "cell_type": "code",
   "execution_count": null,
   "metadata": {},
   "outputs": [],
   "source": [
    "### ENTER CODE HERE ###\n",
    "data[data<0] = 0\n",
    "data"
   ]
  },
  {
   "cell_type": "markdown",
   "metadata": {},
   "source": [
    "Good work!"
   ]
  }
 ],
 "metadata": {
  "kernelspec": {
   "display_name": "Python 3",
   "language": "python",
   "name": "python3"
  },
  "language_info": {
   "codemirror_mode": {
    "name": "ipython",
    "version": 3
   },
   "file_extension": ".py",
   "mimetype": "text/x-python",
   "name": "python",
   "nbconvert_exporter": "python",
   "pygments_lexer": "ipython3",
   "version": "3.8.5"
  }
 },
 "nbformat": 4,
 "nbformat_minor": 4
}
